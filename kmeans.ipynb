{
 "cells": [
  {
   "cell_type": "code",
   "execution_count": 40,
   "metadata": {},
   "outputs": [],
   "source": [
    "import pandas as pd\n",
    "from sklearn.cluster import KMeans\n",
    "from sklearn.preprocessing import StandardScaler\n",
    "from sklearn.metrics import silhouette_score\n",
    "import matplotlib.pyplot as plt"
   ]
  },
  {
   "cell_type": "code",
   "execution_count": 2,
   "metadata": {},
   "outputs": [],
   "source": [
    "path = r\"C:\\Users\\aozak\\data_formation\\mission_data\\df_ok_cupidon\\df_mission_data.csv\"\n",
    "\n",
    "df = pd.read_csv(path)"
   ]
  },
  {
   "cell_type": "code",
   "execution_count": 4,
   "metadata": {},
   "outputs": [
    {
     "data": {
      "text/plain": [
       "Index(['index', 'age', 'status', 'sex', 'orientation', 'body_type', 'diet',\n",
       "       'drinks', 'drugs', 'education', 'height', 'height_cm', 'income', 'job',\n",
       "       'city', 'region', 'offspring', 'has_kids', 'wants_kids', 'smokes',\n",
       "       'date', 'time', 'sign', 'astrology_sign', 'importance', 'ethnicity',\n",
       "       'ethnicity_1', 'ethnicity_2', 'ethnicity_3', 'speaks', 'fluent', 'good',\n",
       "       'pets', 'dogs', 'cats', 'religion', 'religion_name', 'seriousness',\n",
       "       'age_group'],\n",
       "      dtype='object')"
      ]
     },
     "execution_count": 4,
     "metadata": {},
     "output_type": "execute_result"
    }
   ],
   "source": [
    "df.columns"
   ]
  },
  {
   "cell_type": "code",
   "execution_count": 20,
   "metadata": {},
   "outputs": [],
   "source": [
    "# Remplacer dans \"cats\" si \"pets\" contient \"dislikes cats\"\n",
    "df['cats'] = df.apply(lambda row: 'dislike' if 'dislikes cats' in row['pets'] else row['cats'], axis=1)\n",
    "\n",
    "# Remplacer dans \"dogs\" si \"pets\" contient \"dislikes dogs\"\n",
    "df['dogs'] = df.apply(lambda row: 'dislike' if 'dislikes dogs' in row['pets'] else row['dogs'], axis=1)"
   ]
  },
  {
   "cell_type": "code",
   "execution_count": 23,
   "metadata": {},
   "outputs": [
    {
     "data": {
      "text/plain": [
       "0"
      ]
     },
     "execution_count": 23,
     "metadata": {},
     "output_type": "execute_result"
    }
   ],
   "source": [
    "df[\"cats\"].isna().sum()"
   ]
  },
  {
   "cell_type": "code",
   "execution_count": 24,
   "metadata": {},
   "outputs": [],
   "source": [
    "df_hdv = df[['index', 'age_group', 'diet',\n",
    "       'drinks', 'drugs', 'smokes', 'dogs', 'cats']]"
   ]
  },
  {
   "cell_type": "code",
   "execution_count": 26,
   "metadata": {},
   "outputs": [
    {
     "data": {
      "text/plain": [
       "array(['like', 'no importance', 'own', 'dislike'], dtype=object)"
      ]
     },
     "execution_count": 26,
     "metadata": {},
     "output_type": "execute_result"
    }
   ],
   "source": [
    "df_hdv[\"dogs\"].unique()"
   ]
  },
  {
   "cell_type": "code",
   "execution_count": 27,
   "metadata": {},
   "outputs": [
    {
     "name": "stderr",
     "output_type": "stream",
     "text": [
      "C:\\Users\\aozak\\AppData\\Local\\Temp\\ipykernel_8272\\3251154432.py:10: SettingWithCopyWarning: \n",
      "A value is trying to be set on a copy of a slice from a DataFrame.\n",
      "Try using .loc[row_indexer,col_indexer] = value instead\n",
      "\n",
      "See the caveats in the documentation: https://pandas.pydata.org/pandas-docs/stable/user_guide/indexing.html#returning-a-view-versus-a-copy\n",
      "  df_hdv[\"age_group\"] = df_hdv[\"age_group\"].map(age_group_mapping)\n",
      "C:\\Users\\aozak\\AppData\\Local\\Temp\\ipykernel_8272\\3251154432.py:11: SettingWithCopyWarning: \n",
      "A value is trying to be set on a copy of a slice from a DataFrame.\n",
      "Try using .loc[row_indexer,col_indexer] = value instead\n",
      "\n",
      "See the caveats in the documentation: https://pandas.pydata.org/pandas-docs/stable/user_guide/indexing.html#returning-a-view-versus-a-copy\n",
      "  df_hdv[\"drinks\"] = df_hdv[\"drinks\"].map(drinks_mapping)\n",
      "C:\\Users\\aozak\\AppData\\Local\\Temp\\ipykernel_8272\\3251154432.py:12: SettingWithCopyWarning: \n",
      "A value is trying to be set on a copy of a slice from a DataFrame.\n",
      "Try using .loc[row_indexer,col_indexer] = value instead\n",
      "\n",
      "See the caveats in the documentation: https://pandas.pydata.org/pandas-docs/stable/user_guide/indexing.html#returning-a-view-versus-a-copy\n",
      "  df_hdv[\"drugs\"] = df_hdv[\"drugs\"].map(drugs_mapping)\n",
      "C:\\Users\\aozak\\AppData\\Local\\Temp\\ipykernel_8272\\3251154432.py:13: SettingWithCopyWarning: \n",
      "A value is trying to be set on a copy of a slice from a DataFrame.\n",
      "Try using .loc[row_indexer,col_indexer] = value instead\n",
      "\n",
      "See the caveats in the documentation: https://pandas.pydata.org/pandas-docs/stable/user_guide/indexing.html#returning-a-view-versus-a-copy\n",
      "  df_hdv[\"smokes\"] = df_hdv[\"smokes\"].map(smokes_mapping)\n",
      "C:\\Users\\aozak\\AppData\\Local\\Temp\\ipykernel_8272\\3251154432.py:14: SettingWithCopyWarning: \n",
      "A value is trying to be set on a copy of a slice from a DataFrame.\n",
      "Try using .loc[row_indexer,col_indexer] = value instead\n",
      "\n",
      "See the caveats in the documentation: https://pandas.pydata.org/pandas-docs/stable/user_guide/indexing.html#returning-a-view-versus-a-copy\n",
      "  df_hdv[\"dogs\"] = df_hdv[\"dogs\"].map(dogs_mapping)\n",
      "C:\\Users\\aozak\\AppData\\Local\\Temp\\ipykernel_8272\\3251154432.py:15: SettingWithCopyWarning: \n",
      "A value is trying to be set on a copy of a slice from a DataFrame.\n",
      "Try using .loc[row_indexer,col_indexer] = value instead\n",
      "\n",
      "See the caveats in the documentation: https://pandas.pydata.org/pandas-docs/stable/user_guide/indexing.html#returning-a-view-versus-a-copy\n",
      "  df_hdv[\"cats\"] = df_hdv[\"cats\"].map(cats_mapping)\n"
     ]
    }
   ],
   "source": [
    "age_group_mapping = {'18-24': 0, '25-34': 1, '35-44': 2, '45-54': 3, '55-64': 4, '65+': 5}\n",
    "drinks_mapping = {'not reported': 0, 'not at all': 1, 'rarely': 2, 'socially': 3, \n",
    "                  'often': 4, 'very often': 5, 'desperately': 6}\n",
    "drugs_mapping = {'not reported': 0, 'never': 1, 'sometimes': 2, 'often': 3}\n",
    "smokes_mapping = {'unknown': 0, 'no': 1, 'sometimes': 2, 'when drinking': 3, \n",
    "                  'trying to quit': 4, 'yes': 5}\n",
    "dogs_mapping = {'dislike': 0, 'no importance': 1, 'like': 2, 'own': 3}\n",
    "cats_mapping = {'dislike': 0, 'no importance': 1, 'like': 2, 'own': 3}\n",
    "\n",
    "df_hdv[\"age_group\"] = df_hdv[\"age_group\"].map(age_group_mapping)\n",
    "df_hdv[\"drinks\"] = df_hdv[\"drinks\"].map(drinks_mapping)\n",
    "df_hdv[\"drugs\"] = df_hdv[\"drugs\"].map(drugs_mapping)\n",
    "df_hdv[\"smokes\"] = df_hdv[\"smokes\"].map(smokes_mapping)\n",
    "df_hdv[\"dogs\"] = df_hdv[\"dogs\"].map(dogs_mapping)\n",
    "df_hdv[\"cats\"] = df_hdv[\"cats\"].map(cats_mapping)"
   ]
  },
  {
   "cell_type": "code",
   "execution_count": 28,
   "metadata": {},
   "outputs": [
    {
     "data": {
      "text/html": [
       "<div>\n",
       "<style scoped>\n",
       "    .dataframe tbody tr th:only-of-type {\n",
       "        vertical-align: middle;\n",
       "    }\n",
       "\n",
       "    .dataframe tbody tr th {\n",
       "        vertical-align: top;\n",
       "    }\n",
       "\n",
       "    .dataframe thead th {\n",
       "        text-align: right;\n",
       "    }\n",
       "</style>\n",
       "<table border=\"1\" class=\"dataframe\">\n",
       "  <thead>\n",
       "    <tr style=\"text-align: right;\">\n",
       "      <th></th>\n",
       "      <th>index</th>\n",
       "      <th>age_group</th>\n",
       "      <th>diet</th>\n",
       "      <th>drinks</th>\n",
       "      <th>drugs</th>\n",
       "      <th>smokes</th>\n",
       "      <th>dogs</th>\n",
       "      <th>cats</th>\n",
       "    </tr>\n",
       "  </thead>\n",
       "  <tbody>\n",
       "    <tr>\n",
       "      <th>0</th>\n",
       "      <td>0</td>\n",
       "      <td>0</td>\n",
       "      <td>anything</td>\n",
       "      <td>3</td>\n",
       "      <td>1</td>\n",
       "      <td>2</td>\n",
       "      <td>2</td>\n",
       "      <td>2</td>\n",
       "    </tr>\n",
       "    <tr>\n",
       "      <th>1</th>\n",
       "      <td>1</td>\n",
       "      <td>2</td>\n",
       "      <td>other</td>\n",
       "      <td>4</td>\n",
       "      <td>2</td>\n",
       "      <td>1</td>\n",
       "      <td>2</td>\n",
       "      <td>2</td>\n",
       "    </tr>\n",
       "    <tr>\n",
       "      <th>2</th>\n",
       "      <td>2</td>\n",
       "      <td>2</td>\n",
       "      <td>anything</td>\n",
       "      <td>3</td>\n",
       "      <td>0</td>\n",
       "      <td>1</td>\n",
       "      <td>1</td>\n",
       "      <td>3</td>\n",
       "    </tr>\n",
       "    <tr>\n",
       "      <th>3</th>\n",
       "      <td>3</td>\n",
       "      <td>0</td>\n",
       "      <td>vegetarian</td>\n",
       "      <td>3</td>\n",
       "      <td>0</td>\n",
       "      <td>1</td>\n",
       "      <td>1</td>\n",
       "      <td>2</td>\n",
       "    </tr>\n",
       "    <tr>\n",
       "      <th>4</th>\n",
       "      <td>4</td>\n",
       "      <td>1</td>\n",
       "      <td>anything</td>\n",
       "      <td>3</td>\n",
       "      <td>1</td>\n",
       "      <td>1</td>\n",
       "      <td>2</td>\n",
       "      <td>2</td>\n",
       "    </tr>\n",
       "    <tr>\n",
       "      <th>...</th>\n",
       "      <td>...</td>\n",
       "      <td>...</td>\n",
       "      <td>...</td>\n",
       "      <td>...</td>\n",
       "      <td>...</td>\n",
       "      <td>...</td>\n",
       "      <td>...</td>\n",
       "      <td>...</td>\n",
       "    </tr>\n",
       "    <tr>\n",
       "      <th>59913</th>\n",
       "      <td>59941</td>\n",
       "      <td>4</td>\n",
       "      <td>anything</td>\n",
       "      <td>3</td>\n",
       "      <td>1</td>\n",
       "      <td>1</td>\n",
       "      <td>3</td>\n",
       "      <td>1</td>\n",
       "    </tr>\n",
       "    <tr>\n",
       "      <th>59914</th>\n",
       "      <td>59942</td>\n",
       "      <td>1</td>\n",
       "      <td>anything</td>\n",
       "      <td>4</td>\n",
       "      <td>2</td>\n",
       "      <td>1</td>\n",
       "      <td>2</td>\n",
       "      <td>2</td>\n",
       "    </tr>\n",
       "    <tr>\n",
       "      <th>59915</th>\n",
       "      <td>59943</td>\n",
       "      <td>2</td>\n",
       "      <td>anything</td>\n",
       "      <td>1</td>\n",
       "      <td>1</td>\n",
       "      <td>1</td>\n",
       "      <td>1</td>\n",
       "      <td>1</td>\n",
       "    </tr>\n",
       "    <tr>\n",
       "      <th>59916</th>\n",
       "      <td>59944</td>\n",
       "      <td>1</td>\n",
       "      <td>anything</td>\n",
       "      <td>3</td>\n",
       "      <td>3</td>\n",
       "      <td>4</td>\n",
       "      <td>2</td>\n",
       "      <td>2</td>\n",
       "    </tr>\n",
       "    <tr>\n",
       "      <th>59917</th>\n",
       "      <td>59945</td>\n",
       "      <td>2</td>\n",
       "      <td>anything</td>\n",
       "      <td>3</td>\n",
       "      <td>0</td>\n",
       "      <td>2</td>\n",
       "      <td>2</td>\n",
       "      <td>2</td>\n",
       "    </tr>\n",
       "  </tbody>\n",
       "</table>\n",
       "<p>59918 rows × 8 columns</p>\n",
       "</div>"
      ],
      "text/plain": [
       "       index  age_group        diet  drinks  drugs  smokes  dogs  cats\n",
       "0          0          0    anything       3      1       2     2     2\n",
       "1          1          2       other       4      2       1     2     2\n",
       "2          2          2    anything       3      0       1     1     3\n",
       "3          3          0  vegetarian       3      0       1     1     2\n",
       "4          4          1    anything       3      1       1     2     2\n",
       "...      ...        ...         ...     ...    ...     ...   ...   ...\n",
       "59913  59941          4    anything       3      1       1     3     1\n",
       "59914  59942          1    anything       4      2       1     2     2\n",
       "59915  59943          2    anything       1      1       1     1     1\n",
       "59916  59944          1    anything       3      3       4     2     2\n",
       "59917  59945          2    anything       3      0       2     2     2\n",
       "\n",
       "[59918 rows x 8 columns]"
      ]
     },
     "execution_count": 28,
     "metadata": {},
     "output_type": "execute_result"
    }
   ],
   "source": [
    "df_hdv"
   ]
  },
  {
   "cell_type": "code",
   "execution_count": 30,
   "metadata": {},
   "outputs": [],
   "source": [
    "df_hdvs1 = pd.concat([df_hdv, pd.get_dummies(df_hdv['diet'], prefix='diet')], axis=1)"
   ]
  },
  {
   "cell_type": "code",
   "execution_count": 32,
   "metadata": {},
   "outputs": [
    {
     "data": {
      "text/plain": [
       "Index(['index', 'age_group', 'diet', 'drinks', 'drugs', 'smokes', 'dogs',\n",
       "       'cats', 'diet_anything', 'diet_halal', 'diet_kosher', 'diet_other',\n",
       "       'diet_vegan', 'diet_vegetarian'],\n",
       "      dtype='object')"
      ]
     },
     "execution_count": 32,
     "metadata": {},
     "output_type": "execute_result"
    }
   ],
   "source": [
    "df_hdvs1.columns"
   ]
  },
  {
   "cell_type": "code",
   "execution_count": 33,
   "metadata": {},
   "outputs": [],
   "source": [
    "df_hdvs1[['diet_anything', 'diet_halal', 'diet_kosher', 'diet_other',\n",
    "       'diet_vegan', 'diet_vegetarian']] = df_hdvs1[['diet_anything', 'diet_halal', 'diet_kosher', 'diet_other',\n",
    "       'diet_vegan', 'diet_vegetarian']].astype(int)"
   ]
  },
  {
   "cell_type": "code",
   "execution_count": 35,
   "metadata": {},
   "outputs": [],
   "source": [
    "df_hdvs1 = df_hdvs1.drop(columns=\"diet\")"
   ]
  },
  {
   "cell_type": "code",
   "execution_count": 37,
   "metadata": {},
   "outputs": [
    {
     "data": {
      "text/plain": [
       "Index(['index', 'age_group', 'drinks', 'drugs', 'smokes', 'dogs', 'cats',\n",
       "       'diet_anything', 'diet_halal', 'diet_kosher', 'diet_other',\n",
       "       'diet_vegan', 'diet_vegetarian'],\n",
       "      dtype='object')"
      ]
     },
     "execution_count": 37,
     "metadata": {},
     "output_type": "execute_result"
    }
   ],
   "source": [
    "df_hdvs1.columns"
   ]
  },
  {
   "cell_type": "code",
   "execution_count": 38,
   "metadata": {},
   "outputs": [],
   "source": [
    "X = df_hdvs1[['age_group', 'drinks', 'drugs', 'smokes', 'dogs', 'cats',\n",
    "       'diet_anything', 'diet_halal', 'diet_kosher', 'diet_other',\n",
    "       'diet_vegan', 'diet_vegetarian']]"
   ]
  },
  {
   "cell_type": "code",
   "execution_count": 41,
   "metadata": {},
   "outputs": [
    {
     "data": {
      "image/png": "[encoded data removed]",
      "text/plain": [
       "<Figure size 1200x600 with 2 Axes>"
      ]
     },
     "metadata": {},
     "output_type": "display_data"
    },
    {
     "name": "stdout",
     "output_type": "stream",
     "text": [
      "Le nombre optimal de clusters basé sur le silhouette score est : 9\n"
     ]
    }
   ],
   "source": [
    "# 1. Standardiser les données\n",
    "scaler = StandardScaler()\n",
    "X_scaled = scaler.fit_transform(X)\n",
    "\n",
    "# 2. Appliquer K-means pour différents nombres de clusters et calculer l'inertie et silhouette score\n",
    "inertias = []\n",
    "sil_scores = []\n",
    "range_n_clusters = range(2, 11)  # Par exemple, essayer de 2 à 10 clusters\n",
    "\n",
    "for n_clusters in range_n_clusters:\n",
    "    kmeans = KMeans(n_clusters=n_clusters, random_state=42)\n",
    "    kmeans.fit(X_scaled)\n",
    "    \n",
    "    # Inertie (somme des distances au carré des points par rapport aux centres)\n",
    "    inertias.append(kmeans.inertia_)\n",
    "    \n",
    "    # Silhouette score\n",
    "    sil_score = silhouette_score(X_scaled, kmeans.labels_)\n",
    "    sil_scores.append(sil_score)\n",
    "\n",
    "# 3. Afficher l'inertie (méthode du coude) pour déterminer le nombre optimal de clusters\n",
    "plt.figure(figsize=(12, 6))\n",
    "\n",
    "# Inertie\n",
    "plt.subplot(1, 2, 1)\n",
    "plt.plot(range_n_clusters, inertias, marker='o')\n",
    "plt.title('Inertie (Méthode du coude)')\n",
    "plt.xlabel('Nombre de clusters')\n",
    "plt.ylabel('Inertie')\n",
    "\n",
    "# Silhouette score\n",
    "plt.subplot(1, 2, 2)\n",
    "plt.plot(range_n_clusters, sil_scores, marker='o', color='r')\n",
    "plt.title('Silhouette Score')\n",
    "plt.xlabel('Nombre de clusters')\n",
    "plt.ylabel('Silhouette Score')\n",
    "\n",
    "plt.tight_layout()\n",
    "plt.show()\n",
    "\n",
    "# 4. Afficher le nombre optimal de clusters basé sur l'inertie et le silhouette score\n",
    "optimal_k = range_n_clusters[sil_scores.index(max(sil_scores))]\n",
    "print(f'Le nombre optimal de clusters basé sur le silhouette score est : {optimal_k}')\n"
   ]
  },
  {
   "cell_type": "code",
   "execution_count": 42,
   "metadata": {},
   "outputs": [],
   "source": [
    "kmeans = KMeans(n_clusters=6, random_state=42)\n",
    "df_hdvs1['cluster'] = kmeans.fit_predict(X_scaled)"
   ]
  },
  {
   "cell_type": "code",
   "execution_count": 45,
   "metadata": {},
   "outputs": [
    {
     "data": {
      "text/plain": [
       "cluster\n",
       "3    26549\n",
       "0    19725\n",
       "2     6056\n",
       "1     5100\n",
       "5     1786\n",
       "4      702\n",
       "Name: count, dtype: int64"
      ]
     },
     "execution_count": 45,
     "metadata": {},
     "output_type": "execute_result"
    }
   ],
   "source": [
    "df_hdvs1[\"cluster\"].value_counts()"
   ]
  },
  {
   "cell_type": "code",
   "execution_count": 51,
   "metadata": {},
   "outputs": [],
   "source": [
    "df_hdvs2 = df_hdvs1[[\"index\", \"cluster\"]]"
   ]
  },
  {
   "cell_type": "code",
   "execution_count": 59,
   "metadata": {},
   "outputs": [],
   "source": [
    "df1 = pd.merge(df, df_hdvs2, on = \"index\", how = \"inner\")"
   ]
  },
  {
   "cell_type": "code",
   "execution_count": 60,
   "metadata": {},
   "outputs": [],
   "source": [
    "df1 = df1.rename(columns={'cluster': 'categorie_hdv'})\n",
    "path = r\"C:\\Users\\aozak\\data_formation\\mission_data\\df_ok_cupidon\\df_mission_data.csv\"\n",
    "#df1.to_csv(path, index = False)"
   ]
  },
  {
   "cell_type": "code",
   "execution_count": 61,
   "metadata": {},
   "outputs": [],
   "source": [
    "# Définir les bornes des tranches\n",
    "bins = [119, 140, 150, 160, 170, 180, 190, float('inf')]\n",
    "\n",
    "# Définir les labels correspondants aux tranches\n",
    "labels = [\"119 cm - 140 cm\", \"141 cm - 150 cm\", \"151 cm - 160 cm\", \"161 cm - 170 cm\", \"171 cm - 180 cm\", \"181 cm - 190 cm\", \"191 cm et plus\"]\n",
    "\n",
    "# Appliquer les tranches à la colonne 'height_cm'\n",
    "df1['height_category'] = pd.cut(df1['height_cm'], bins=bins, labels=labels, right=False)\n",
    "\n",
    "# Afficher le DataFrame avec les nouvelles catégories"
   ]
  },
  {
   "cell_type": "code",
   "execution_count": 63,
   "metadata": {},
   "outputs": [
    {
     "data": {
      "text/plain": [
       "Index(['index', 'age', 'status', 'sex', 'orientation', 'body_type', 'diet',\n",
       "       'drinks', 'drugs', 'education', 'height', 'height_cm', 'income', 'job',\n",
       "       'city', 'region', 'offspring', 'has_kids', 'wants_kids', 'smokes',\n",
       "       'date', 'time', 'sign', 'astrology_sign', 'importance', 'ethnicity',\n",
       "       'ethnicity_1', 'ethnicity_2', 'ethnicity_3', 'speaks', 'fluent', 'good',\n",
       "       'pets', 'dogs', 'cats', 'religion', 'religion_name', 'seriousness',\n",
       "       'age_group', 'categorie_hdv', 'height_category'],\n",
       "      dtype='object')"
      ]
     },
     "execution_count": 63,
     "metadata": {},
     "output_type": "execute_result"
    }
   ],
   "source": [
    "df1.columns"
   ]
  },
  {
   "cell_type": "code",
   "execution_count": 69,
   "metadata": {},
   "outputs": [],
   "source": [
    "df_body = df1[['index','ethnicity', 'height_category', 'body_type']]"
   ]
  },
  {
   "cell_type": "code",
   "execution_count": 71,
   "metadata": {},
   "outputs": [
    {
     "data": {
      "text/html": [
       "<div>\n",
       "<style scoped>\n",
       "    .dataframe tbody tr th:only-of-type {\n",
       "        vertical-align: middle;\n",
       "    }\n",
       "\n",
       "    .dataframe tbody tr th {\n",
       "        vertical-align: top;\n",
       "    }\n",
       "\n",
       "    .dataframe thead th {\n",
       "        text-align: right;\n",
       "    }\n",
       "</style>\n",
       "<table border=\"1\" class=\"dataframe\">\n",
       "  <thead>\n",
       "    <tr style=\"text-align: right;\">\n",
       "      <th></th>\n",
       "      <th>index</th>\n",
       "      <th>ethnicity</th>\n",
       "      <th>height_category</th>\n",
       "      <th>body_type</th>\n",
       "    </tr>\n",
       "  </thead>\n",
       "  <tbody>\n",
       "    <tr>\n",
       "      <th>0</th>\n",
       "      <td>0</td>\n",
       "      <td>asian, white</td>\n",
       "      <td>191 cm et plus</td>\n",
       "      <td>a little extra</td>\n",
       "    </tr>\n",
       "    <tr>\n",
       "      <th>1</th>\n",
       "      <td>1</td>\n",
       "      <td>white</td>\n",
       "      <td>171 cm - 180 cm</td>\n",
       "      <td>average</td>\n",
       "    </tr>\n",
       "    <tr>\n",
       "      <th>2</th>\n",
       "      <td>2</td>\n",
       "      <td>rather not disclose</td>\n",
       "      <td>171 cm - 180 cm</td>\n",
       "      <td>thin</td>\n",
       "    </tr>\n",
       "    <tr>\n",
       "      <th>3</th>\n",
       "      <td>3</td>\n",
       "      <td>white</td>\n",
       "      <td>181 cm - 190 cm</td>\n",
       "      <td>thin</td>\n",
       "    </tr>\n",
       "    <tr>\n",
       "      <th>4</th>\n",
       "      <td>4</td>\n",
       "      <td>asian, black, other</td>\n",
       "      <td>161 cm - 170 cm</td>\n",
       "      <td>athletic</td>\n",
       "    </tr>\n",
       "    <tr>\n",
       "      <th>...</th>\n",
       "      <td>...</td>\n",
       "      <td>...</td>\n",
       "      <td>...</td>\n",
       "      <td>...</td>\n",
       "    </tr>\n",
       "    <tr>\n",
       "      <th>59913</th>\n",
       "      <td>59941</td>\n",
       "      <td>rather not disclose</td>\n",
       "      <td>151 cm - 160 cm</td>\n",
       "      <td>rather not say</td>\n",
       "    </tr>\n",
       "    <tr>\n",
       "      <th>59914</th>\n",
       "      <td>59942</td>\n",
       "      <td>white, other</td>\n",
       "      <td>181 cm - 190 cm</td>\n",
       "      <td>fit</td>\n",
       "    </tr>\n",
       "    <tr>\n",
       "      <th>59915</th>\n",
       "      <td>59943</td>\n",
       "      <td>asian</td>\n",
       "      <td>181 cm - 190 cm</td>\n",
       "      <td>average</td>\n",
       "    </tr>\n",
       "    <tr>\n",
       "      <th>59916</th>\n",
       "      <td>59944</td>\n",
       "      <td>asian, black</td>\n",
       "      <td>181 cm - 190 cm</td>\n",
       "      <td>athletic</td>\n",
       "    </tr>\n",
       "    <tr>\n",
       "      <th>59917</th>\n",
       "      <td>59945</td>\n",
       "      <td>white</td>\n",
       "      <td>171 cm - 180 cm</td>\n",
       "      <td>average</td>\n",
       "    </tr>\n",
       "  </tbody>\n",
       "</table>\n",
       "<p>59918 rows × 4 columns</p>\n",
       "</div>"
      ],
      "text/plain": [
       "       index            ethnicity  height_category       body_type\n",
       "0          0         asian, white   191 cm et plus  a little extra\n",
       "1          1                white  171 cm - 180 cm         average\n",
       "2          2  rather not disclose  171 cm - 180 cm            thin\n",
       "3          3                white  181 cm - 190 cm            thin\n",
       "4          4  asian, black, other  161 cm - 170 cm        athletic\n",
       "...      ...                  ...              ...             ...\n",
       "59913  59941  rather not disclose  151 cm - 160 cm  rather not say\n",
       "59914  59942         white, other  181 cm - 190 cm             fit\n",
       "59915  59943                asian  181 cm - 190 cm         average\n",
       "59916  59944         asian, black  181 cm - 190 cm        athletic\n",
       "59917  59945                white  171 cm - 180 cm         average\n",
       "\n",
       "[59918 rows x 4 columns]"
      ]
     },
     "execution_count": 71,
     "metadata": {},
     "output_type": "execute_result"
    }
   ],
   "source": [
    "df_body"
   ]
  },
  {
   "cell_type": "code",
   "execution_count": 72,
   "metadata": {},
   "outputs": [
    {
     "name": "stderr",
     "output_type": "stream",
     "text": [
      "C:\\Users\\aozak\\AppData\\Local\\Temp\\ipykernel_8272\\3102777900.py:16: SettingWithCopyWarning: \n",
      "A value is trying to be set on a copy of a slice from a DataFrame.\n",
      "Try using .loc[row_indexer,col_indexer] = value instead\n",
      "\n",
      "See the caveats in the documentation: https://pandas.pydata.org/pandas-docs/stable/user_guide/indexing.html#returning-a-view-versus-a-copy\n",
      "  df_body['body_type_mapped'] = df_body['body_type'].map(body_type_mapping)\n"
     ]
    }
   ],
   "source": [
    "body_type_mapping = {\n",
    "    'rather not say': 0,\n",
    "    'jacked': 1,\n",
    "    'athletic': 2,\n",
    "    'fit': 3,\n",
    "    'curvy': 4,\n",
    "    'a little extra': 5,\n",
    "    'average': 6,\n",
    "    'skinny': 7,\n",
    "    'overweight': 8,\n",
    "    'full figured': 9,\n",
    "    'used up': 10\n",
    "}\n",
    "\n",
    "# Appliquer le mappage sur la colonne 'body_type'\n",
    "df_body['body_type_mapped'] = df_body['body_type'].map(body_type_mapping)"
   ]
  },
  {
   "cell_type": "code",
   "execution_count": 75,
   "metadata": {},
   "outputs": [
    {
     "data": {
      "text/plain": [
       "array(['a little extra', 'average', 'thin', 'athletic', 'fit',\n",
       "       'rather not say', 'skinny', 'curvy', 'full figured', 'jacked',\n",
       "       'used up', 'overweight'], dtype=object)"
      ]
     },
     "execution_count": 75,
     "metadata": {},
     "output_type": "execute_result"
    }
   ],
   "source": [
    "df_body[\"body_type\"].unique()"
   ]
  },
  {
   "cell_type": "code",
   "execution_count": 76,
   "metadata": {},
   "outputs": [
    {
     "name": "stderr",
     "output_type": "stream",
     "text": [
      "C:\\Users\\aozak\\AppData\\Local\\Temp\\ipykernel_8272\\3812689148.py:18: SettingWithCopyWarning: \n",
      "A value is trying to be set on a copy of a slice from a DataFrame.\n",
      "Try using .loc[row_indexer,col_indexer] = value instead\n",
      "\n",
      "See the caveats in the documentation: https://pandas.pydata.org/pandas-docs/stable/user_guide/indexing.html#returning-a-view-versus-a-copy\n",
      "  df_body['body_type_mapped'] = df_body['body_type'].map(body_type_mapping)\n"
     ]
    }
   ],
   "source": [
    "# Créer un dictionnaire qui mappe chaque body_type à une valeur numérique\n",
    "body_type_mapping = {\n",
    "    'fit': 0,\n",
    "    'athletic': 1,\n",
    "    'jacked': 2,\n",
    "    'curvy': 3,\n",
    "    'a little extra': 4,\n",
    "    'average': 5,\n",
    "    'thin': 6,\n",
    "    'skinny': 7,\n",
    "    'full figured': 8,\n",
    "    'overweight': 9,\n",
    "    'used up': 10,\n",
    "    'rather not say': 11\n",
    "}\n",
    "\n",
    "# Appliquer le mappage sur la colonne 'body_type'\n",
    "df_body['body_type_mapped'] = df_body['body_type'].map(body_type_mapping)"
   ]
  },
  {
   "cell_type": "code",
   "execution_count": 80,
   "metadata": {},
   "outputs": [
    {
     "data": {
      "text/plain": [
       "height_category\n",
       "171 cm - 180 cm    22055\n",
       "181 cm - 190 cm    15503\n",
       "161 cm - 170 cm    15185\n",
       "151 cm - 160 cm     4337\n",
       "191 cm et plus      2738\n",
       "141 cm - 150 cm       84\n",
       "119 cm - 140 cm       16\n",
       "Name: count, dtype: int64"
      ]
     },
     "execution_count": 80,
     "metadata": {},
     "output_type": "execute_result"
    }
   ],
   "source": [
    "df_body[\"height_category\"].value_counts()"
   ]
  },
  {
   "cell_type": "code",
   "execution_count": 81,
   "metadata": {},
   "outputs": [
    {
     "name": "stderr",
     "output_type": "stream",
     "text": [
      "C:\\Users\\aozak\\AppData\\Local\\Temp\\ipykernel_8272\\4228880384.py:13: SettingWithCopyWarning: \n",
      "A value is trying to be set on a copy of a slice from a DataFrame.\n",
      "Try using .loc[row_indexer,col_indexer] = value instead\n",
      "\n",
      "See the caveats in the documentation: https://pandas.pydata.org/pandas-docs/stable/user_guide/indexing.html#returning-a-view-versus-a-copy\n",
      "  df_body['height_category_mapped'] = df_body['height_category'].map(height_category_mapping)\n"
     ]
    }
   ],
   "source": [
    "# Créer un dictionnaire qui mappe chaque height_category à une valeur numérique\n",
    "height_category_mapping = {\n",
    "    '119 cm - 140 cm': 0,\n",
    "    '141 cm - 150 cm': 1,\n",
    "    '151 cm - 160 cm': 2,\n",
    "    '161 cm - 170 cm': 3,\n",
    "    '171 cm - 180 cm': 4,\n",
    "    '181 cm - 190 cm': 5,\n",
    "    '191 cm et plus': 6\n",
    "}\n",
    "\n",
    "# Appliquer le mappage sur la colonne 'height_category'\n",
    "df_body['height_category_mapped'] = df_body['height_category'].map(height_category_mapping)\n"
   ]
  },
  {
   "cell_type": "code",
   "execution_count": 85,
   "metadata": {},
   "outputs": [
    {
     "data": {
      "text/html": [
       "<div>\n",
       "<style scoped>\n",
       "    .dataframe tbody tr th:only-of-type {\n",
       "        vertical-align: middle;\n",
       "    }\n",
       "\n",
       "    .dataframe tbody tr th {\n",
       "        vertical-align: top;\n",
       "    }\n",
       "\n",
       "    .dataframe thead th {\n",
       "        text-align: right;\n",
       "    }\n",
       "</style>\n",
       "<table border=\"1\" class=\"dataframe\">\n",
       "  <thead>\n",
       "    <tr style=\"text-align: right;\">\n",
       "      <th></th>\n",
       "      <th>index</th>\n",
       "      <th>ethnicity</th>\n",
       "      <th>height_category</th>\n",
       "      <th>body_type</th>\n",
       "      <th>body_type_mapped</th>\n",
       "      <th>height_category_mapped</th>\n",
       "    </tr>\n",
       "  </thead>\n",
       "  <tbody>\n",
       "    <tr>\n",
       "      <th>0</th>\n",
       "      <td>0</td>\n",
       "      <td>asian, white</td>\n",
       "      <td>191 cm et plus</td>\n",
       "      <td>a little extra</td>\n",
       "      <td>4</td>\n",
       "      <td>6</td>\n",
       "    </tr>\n",
       "    <tr>\n",
       "      <th>1</th>\n",
       "      <td>1</td>\n",
       "      <td>white</td>\n",
       "      <td>171 cm - 180 cm</td>\n",
       "      <td>average</td>\n",
       "      <td>5</td>\n",
       "      <td>4</td>\n",
       "    </tr>\n",
       "    <tr>\n",
       "      <th>2</th>\n",
       "      <td>2</td>\n",
       "      <td>rather not disclose</td>\n",
       "      <td>171 cm - 180 cm</td>\n",
       "      <td>thin</td>\n",
       "      <td>6</td>\n",
       "      <td>4</td>\n",
       "    </tr>\n",
       "    <tr>\n",
       "      <th>3</th>\n",
       "      <td>3</td>\n",
       "      <td>white</td>\n",
       "      <td>181 cm - 190 cm</td>\n",
       "      <td>thin</td>\n",
       "      <td>6</td>\n",
       "      <td>5</td>\n",
       "    </tr>\n",
       "    <tr>\n",
       "      <th>4</th>\n",
       "      <td>4</td>\n",
       "      <td>asian, black, other</td>\n",
       "      <td>161 cm - 170 cm</td>\n",
       "      <td>athletic</td>\n",
       "      <td>1</td>\n",
       "      <td>3</td>\n",
       "    </tr>\n",
       "    <tr>\n",
       "      <th>...</th>\n",
       "      <td>...</td>\n",
       "      <td>...</td>\n",
       "      <td>...</td>\n",
       "      <td>...</td>\n",
       "      <td>...</td>\n",
       "      <td>...</td>\n",
       "    </tr>\n",
       "    <tr>\n",
       "      <th>59913</th>\n",
       "      <td>59941</td>\n",
       "      <td>rather not disclose</td>\n",
       "      <td>151 cm - 160 cm</td>\n",
       "      <td>rather not say</td>\n",
       "      <td>11</td>\n",
       "      <td>2</td>\n",
       "    </tr>\n",
       "    <tr>\n",
       "      <th>59914</th>\n",
       "      <td>59942</td>\n",
       "      <td>white, other</td>\n",
       "      <td>181 cm - 190 cm</td>\n",
       "      <td>fit</td>\n",
       "      <td>0</td>\n",
       "      <td>5</td>\n",
       "    </tr>\n",
       "    <tr>\n",
       "      <th>59915</th>\n",
       "      <td>59943</td>\n",
       "      <td>asian</td>\n",
       "      <td>181 cm - 190 cm</td>\n",
       "      <td>average</td>\n",
       "      <td>5</td>\n",
       "      <td>5</td>\n",
       "    </tr>\n",
       "    <tr>\n",
       "      <th>59916</th>\n",
       "      <td>59944</td>\n",
       "      <td>asian, black</td>\n",
       "      <td>181 cm - 190 cm</td>\n",
       "      <td>athletic</td>\n",
       "      <td>1</td>\n",
       "      <td>5</td>\n",
       "    </tr>\n",
       "    <tr>\n",
       "      <th>59917</th>\n",
       "      <td>59945</td>\n",
       "      <td>white</td>\n",
       "      <td>171 cm - 180 cm</td>\n",
       "      <td>average</td>\n",
       "      <td>5</td>\n",
       "      <td>4</td>\n",
       "    </tr>\n",
       "  </tbody>\n",
       "</table>\n",
       "<p>59918 rows × 6 columns</p>\n",
       "</div>"
      ],
      "text/plain": [
       "       index            ethnicity  height_category       body_type  \\\n",
       "0          0         asian, white   191 cm et plus  a little extra   \n",
       "1          1                white  171 cm - 180 cm         average   \n",
       "2          2  rather not disclose  171 cm - 180 cm            thin   \n",
       "3          3                white  181 cm - 190 cm            thin   \n",
       "4          4  asian, black, other  161 cm - 170 cm        athletic   \n",
       "...      ...                  ...              ...             ...   \n",
       "59913  59941  rather not disclose  151 cm - 160 cm  rather not say   \n",
       "59914  59942         white, other  181 cm - 190 cm             fit   \n",
       "59915  59943                asian  181 cm - 190 cm         average   \n",
       "59916  59944         asian, black  181 cm - 190 cm        athletic   \n",
       "59917  59945                white  171 cm - 180 cm         average   \n",
       "\n",
       "       body_type_mapped height_category_mapped  \n",
       "0                     4                      6  \n",
       "1                     5                      4  \n",
       "2                     6                      4  \n",
       "3                     6                      5  \n",
       "4                     1                      3  \n",
       "...                 ...                    ...  \n",
       "59913                11                      2  \n",
       "59914                 0                      5  \n",
       "59915                 5                      5  \n",
       "59916                 1                      5  \n",
       "59917                 5                      4  \n",
       "\n",
       "[59918 rows x 6 columns]"
      ]
     },
     "execution_count": 85,
     "metadata": {},
     "output_type": "execute_result"
    }
   ],
   "source": [
    "df_body"
   ]
  }
 ],
 "metadata": {
  "kernelspec": {
   "display_name": "Python 3",
   "language": "python",
   "name": "python3"
  },
  "language_info": {
   "codemirror_mode": {
    "name": "ipython",
    "version": 3
   },
   "file_extension": ".py",
   "mimetype": "text/x-python",
   "name": "python",
   "nbconvert_exporter": "python",
   "pygments_lexer": "ipython3",
   "version": "3.12.6"
  }
 },
 "nbformat": 4,
 "nbformat_minor": 2
}
